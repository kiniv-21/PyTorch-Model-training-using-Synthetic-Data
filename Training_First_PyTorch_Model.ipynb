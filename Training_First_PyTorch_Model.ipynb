{
  "nbformat": 4,
  "nbformat_minor": 0,
  "metadata": {
    "colab": {
      "provenance": [],
      "authorship_tag": "ABX9TyM/mr1BN0uGy5B+kFRK/Gi7",
      "include_colab_link": true
    },
    "kernelspec": {
      "name": "python3",
      "display_name": "Python 3"
    },
    "language_info": {
      "name": "python"
    },
    "accelerator": "GPU",
    "gpuClass": "standard"
  },
  "cells": [
    {
      "cell_type": "markdown",
      "metadata": {
        "id": "view-in-github",
        "colab_type": "text"
      },
      "source": [
        "<a href=\"https://colab.research.google.com/github/kiniv-21/PyTorch-Model-training-using-Synthetic-Data/blob/main/Training_First_PyTorch_Model.ipynb\" target=\"_parent\"><img src=\"https://colab.research.google.com/assets/colab-badge.svg\" alt=\"Open In Colab\"/></a>"
      ]
    },
    {
      "cell_type": "code",
      "execution_count": 1,
      "metadata": {
        "id": "Dpwk-4Yl3o4s"
      },
      "outputs": [],
      "source": [
        "import numpy as np\n",
        "import matplotlib.pyplot as plt\n",
        "plt.style.use('fivethirtyeight')"
      ]
    },
    {
      "cell_type": "code",
      "source": [
        "true_b = 1\n",
        "true_w = 2\n",
        "N = 100\n",
        "\n",
        "# Data Generation\n",
        "np.random.seed(42)\n",
        "X = np.random.rand(N,1)\n",
        "epsilon = .1 * np.random.randn(N,1)\n",
        "y = true_b + true_w * X + epsilon"
      ],
      "metadata": {
        "id": "zWjCg_tm4HTH"
      },
      "execution_count": 3,
      "outputs": []
    },
    {
      "cell_type": "markdown",
      "source": [
        "# Train/ Validation Split\n",
        "Splitting synthetic data into train and validation sets, shuffling the array of indices and using the first 80 shuffled points for training"
      ],
      "metadata": {
        "id": "2ofhyUed5XUK"
      }
    },
    {
      "cell_type": "code",
      "source": [
        "# Shuffling Indices\n",
        "idx = np.arange(N)\n",
        "np.random.shuffle(idx)\n",
        "\n",
        "# USes the first 80 random indices for train\n",
        "train_idx = idx[:int(N*.8)]\n",
        "val_idx = idx[int(N*.8)]\n",
        "\n",
        "#Generates train and validation sets\n",
        "X_train,y_train = X[train_idx],y[train_idx]\n",
        "X_val, y_val = X[val_idx],y[val_idx]"
      ],
      "metadata": {
        "id": "qmyFaE3S4gIE"
      },
      "execution_count": 4,
      "outputs": []
    },
    {
      "cell_type": "code",
      "source": [
        "fig,ax = plt.subplots(1,2,figsize=(12,4))\n",
        "ax[0].scatter(X_train, y_train)\n",
        "ax[0].set_xlabel('X')\n",
        "ax[0].set_ylabel('y')\n",
        "ax[0].set_ylim([1, 3])\n",
        "ax[0].set_title('Generated Data - Train')\n",
        "ax[1].scatter(X_val, y_val, c='r')\n",
        "ax[1].set_xlabel('X')\n",
        "ax[1].set_ylabel('y')\n",
        "ax[1].set_ylim([1, 3])\n",
        "ax[1].set_title('Generated Data - Validation')"
      ],
      "metadata": {
        "colab": {
          "base_uri": "https://localhost:8080/",
          "height": 342
        },
        "id": "umWsG8AL6R9s",
        "outputId": "db18e240-74f6-4b58-b551-e59cd14800f4"
      },
      "execution_count": 5,
      "outputs": [
        {
          "output_type": "execute_result",
          "data": {
            "text/plain": [
              "Text(0.5, 1.0, 'Generated Data - Validation')"
            ]
          },
          "metadata": {},
          "execution_count": 5
        },
        {
          "output_type": "display_data",
          "data": {
            "text/plain": [
              "<Figure size 864x288 with 2 Axes>"
            ],
            "image/png": "[encoded data removed]"
          },
          "metadata": {}
        }
      ]
    },
    {
      "cell_type": "markdown",
      "source": [
        "# PyTorch: tensors, tensors, tensors"
      ],
      "metadata": {
        "id": "lr2pkrbC_fjC"
      }
    },
    {
      "cell_type": "code",
      "source": [
        "import torch\n",
        "import torch.optim as optim\n",
        "import torch.nn as nn"
      ],
      "metadata": {
        "id": "psZ7BnMp_Rre"
      },
      "execution_count": 6,
      "outputs": []
    },
    {
      "cell_type": "markdown",
      "source": [
        "In Numpy, you may have an array that has three dimensions, right? That is, technically speaking, a tensor.\n",
        "\n",
        "A scalar (a single number) has zero dimensions, a vector has one dimension, a matrix has two dimensions and a tensor has three or more dimensions. That’s it!\n",
        "\n",
        "But, to keep things simple, it is commonplace to call vectors and matrices tensors as well — so, from now on, everything is either a scalar or a tensor.\n",
        "\n",
        "You can create tensors in PyTorch pretty much the same way you create arrays in Numpy. Using tensor() you can create either a scalar or a tensor.\n",
        "\n",
        "PyTorch's tensors have equivalent functions as its Numpy counterparts, like: ones(), zeros(), rand(), randn() and many more."
      ],
      "metadata": {
        "id": "6pVNbQbWKjdM"
      }
    },
    {
      "cell_type": "code",
      "source": [
        "scalar = torch.tensor(3.14159)\n",
        "vector = torch.tensor([1, 2, 3])\n",
        "matrix = torch.ones((2, 3), dtype=torch.float)\n",
        "tensor = torch.randn((2, 3, 4), dtype=torch.float)\n",
        "\n",
        "print(scalar)\n",
        "print(vector)\n",
        "print(matrix)\n",
        "print(tensor)"
      ],
      "metadata": {
        "colab": {
          "base_uri": "https://localhost:8080/"
        },
        "id": "CFO4tVqiKhXd",
        "outputId": "ac6ef5a7-5cb6-405d-fcc9-94a9fd2d24b1"
      },
      "execution_count": 7,
      "outputs": [
        {
          "output_type": "stream",
          "name": "stdout",
          "text": [
            "tensor(3.1416)\n",
            "tensor([1, 2, 3])\n",
            "tensor([[1., 1., 1.],\n",
            "        [1., 1., 1.]])\n",
            "tensor([[[ 1.7944,  0.3652, -0.1384,  0.9156],\n",
            "         [ 1.0132,  0.3741, -1.1390, -0.1468],\n",
            "         [-0.5580,  1.0622,  0.1158,  1.0490]],\n",
            "\n",
            "        [[ 1.7118, -0.2548,  0.0790,  1.2846],\n",
            "         [ 0.0894,  0.3035, -1.0248, -0.4088],\n",
            "         [ 1.0661, -0.7540,  2.3139,  2.9268]]])\n"
          ]
        }
      ]
    },
    {
      "cell_type": "markdown",
      "source": [
        "You can get the shape of a tensor using its size() method or its shape attribute."
      ],
      "metadata": {
        "id": "bPlHHMFDLTHW"
      }
    },
    {
      "cell_type": "code",
      "source": [
        "print(tensor.size(), tensor.shape)"
      ],
      "metadata": {
        "colab": {
          "base_uri": "https://localhost:8080/"
        },
        "id": "2zsePS_XLR1c",
        "outputId": "0e0e5e80-e6a2-4616-b7cd-92e1e6bbb4be"
      },
      "execution_count": 8,
      "outputs": [
        {
          "output_type": "stream",
          "name": "stdout",
          "text": [
            "torch.Size([2, 3, 4]) torch.Size([2, 3, 4])\n"
          ]
        }
      ]
    },
    {
      "cell_type": "markdown",
      "source": [
        "You can also reshape a tensor using its reshape() or view() methods.\n",
        "\n",
        "Beware: these methods create a new tensor with the desired shape that shares the underlying data with the original tensor!"
      ],
      "metadata": {
        "id": "KUKTEKISLXbY"
      }
    },
    {
      "cell_type": "code",
      "source": [
        "new_tensor1 = tensor.reshape(2, -1)\n",
        "new_tensor2 = tensor.view(2, -1)\n",
        "print(new_tensor1.shape, new_tensor2.shape)"
      ],
      "metadata": {
        "colab": {
          "base_uri": "https://localhost:8080/"
        },
        "id": "ZUd_xLG0LV_b",
        "outputId": "953cceac-ccac-4f3b-99a1-5df48c644e8b"
      },
      "execution_count": 9,
      "outputs": [
        {
          "output_type": "stream",
          "name": "stdout",
          "text": [
            "torch.Size([2, 12]) torch.Size([2, 12])\n"
          ]
        }
      ]
    },
    {
      "cell_type": "markdown",
      "source": [
        "If you want to copy all data for real, that is, duplicate it in memory, you should use either its new_tensor() or clone() methods."
      ],
      "metadata": {
        "id": "Wt1t-bLWLa7C"
      }
    },
    {
      "cell_type": "markdown",
      "source": [
        "# Loading Data, Devices and CUDA\n",
        "”How do we go from Numpy’s arrays to PyTorch’s tensors”, you ask?\n",
        "\n",
        "That’s what as_tensor() is good for. It returns a CPU tensor, though.\n",
        "\n",
        "You can also easily cast it to a lower precision (32-bit float) using float()."
      ],
      "metadata": {
        "id": "2p69hdRGLd2Q"
      }
    },
    {
      "cell_type": "code",
      "source": [
        "# Our data was in Numpy arrays, but we need to transform them into PyTorch's Tensors\n",
        "x_train_tensor = torch.as_tensor(X_train).float()\n",
        "y_train_tensor = torch.as_tensor(y_train).float()\n",
        "\n",
        "print(type(X_train), type(x_train_tensor))"
      ],
      "metadata": {
        "colab": {
          "base_uri": "https://localhost:8080/"
        },
        "id": "MZS4NzxsLZZq",
        "outputId": "c1e8dfc3-5246-4ad3-b80d-6440ba56132b"
      },
      "execution_count": 12,
      "outputs": [
        {
          "output_type": "stream",
          "name": "stdout",
          "text": [
            "<class 'numpy.ndarray'> <class 'torch.Tensor'>\n"
          ]
        }
      ]
    },
    {
      "cell_type": "markdown",
      "source": [
        "“But I want to use my fancy GPU…”, you say.\n",
        "\n",
        "No worries, that’s what to() is good for. It sends your tensor to whatever device you specify, including your GPU (referred to as cuda or cuda:0).\n",
        "\n",
        "“What if I want my code to fallback to CPU if no GPU is available?”, you may be wondering…\n",
        "\n",
        "PyTorch got your back once more — you can use cuda.is_available() to find out if you have a GPU at your disposal and set your device accordingly."
      ],
      "metadata": {
        "id": "tW93ZwcdLoZY"
      }
    },
    {
      "cell_type": "code",
      "source": [
        "device = 'cuda' if torch.cuda.is_available() else 'cpu'\n",
        "\n",
        "# Our data was in Numpy arrays, but we need to transform them into PyTorch's Tensors\n",
        "x_train_tensor = torch.as_tensor(X_train).float().to(device)\n",
        "y_train_tensor = torch.as_tensor(y_train).float().to(device)\n",
        "\n",
        "print(type(X_train), type(x_train_tensor))"
      ],
      "metadata": {
        "colab": {
          "base_uri": "https://localhost:8080/"
        },
        "id": "kTBeWaIvLh6L",
        "outputId": "9669b0ca-2f91-4409-e48f-f56087daca70"
      },
      "execution_count": 14,
      "outputs": [
        {
          "output_type": "stream",
          "name": "stdout",
          "text": [
            "<class 'numpy.ndarray'> <class 'torch.Tensor'>\n"
          ]
        }
      ]
    },
    {
      "cell_type": "markdown",
      "metadata": {
        "id": "4lsYIvjQDE7O"
      },
      "source": [
        "If you compare the **types** of both variables, you’ll get what you’d expect: `numpy.ndarray` for the first one and `torch.Tensor` for the second one.\n",
        "\n",
        "But where does your nice tensor “live”? In your CPU or your GPU? You can’t say… but if you use PyTorch’s **type()**, it will reveal its **location** — `torch.cuda.FloatTensor` — a GPU tensor in this case."
      ]
    },
    {
      "cell_type": "code",
      "source": [
        "print(x_train_tensor.type())"
      ],
      "metadata": {
        "colab": {
          "base_uri": "https://localhost:8080/"
        },
        "id": "8BfqaDJwLqcr",
        "outputId": "068422ce-5d53-4185-da45-3fd66edd82c7"
      },
      "execution_count": 15,
      "outputs": [
        {
          "output_type": "stream",
          "name": "stdout",
          "text": [
            "torch.cuda.FloatTensor\n"
          ]
        }
      ]
    },
    {
      "cell_type": "markdown",
      "source": [
        "We can also go the other way around, turning tensors back into Numpy arrays, using numpy(). It should be easy as x_train_tensor.numpy() but…"
      ],
      "metadata": {
        "id": "qP2Az_j-L6Vk"
      }
    },
    {
      "cell_type": "code",
      "source": [
        "x_train_tensor.numpy()"
      ],
      "metadata": {
        "colab": {
          "base_uri": "https://localhost:8080/",
          "height": 165
        },
        "id": "1rGE1eBLL6xq",
        "outputId": "0ac963d5-20d5-442f-e7b5-d7383fb409fe"
      },
      "execution_count": 16,
      "outputs": [
        {
          "output_type": "error",
          "ename": "TypeError",
          "evalue": "ignored",
          "traceback": [
            "\u001b[0;31m---------------------------------------------------------------------------\u001b[0m",
            "\u001b[0;31mTypeError\u001b[0m                                 Traceback (most recent call last)",
            "\u001b[0;32m<ipython-input-16-1f2e1ca5ecef>\u001b[0m in \u001b[0;36m<module>\u001b[0;34m\u001b[0m\n\u001b[0;32m----> 1\u001b[0;31m \u001b[0mx_train_tensor\u001b[0m\u001b[0;34m.\u001b[0m\u001b[0mnumpy\u001b[0m\u001b[0;34m(\u001b[0m\u001b[0;34m)\u001b[0m\u001b[0;34m\u001b[0m\u001b[0;34m\u001b[0m\u001b[0m\n\u001b[0m",
            "\u001b[0;31mTypeError\u001b[0m: can't convert cuda:0 device type tensor to numpy. Use Tensor.cpu() to copy the tensor to host memory first."
          ]
        }
      ]
    },
    {
      "cell_type": "markdown",
      "source": [],
      "metadata": {
        "id": "3wvbjO8QL_Wk"
      }
    },
    {
      "cell_type": "markdown",
      "metadata": {
        "id": "dNKoo-n0DlUP"
      },
      "source": [
        "Unfortunately, Numpy **cannot** handle GPU tensors… you need to make them CPU tensors first using [**cpu()**](https://bit.ly/2OSC1Th)."
      ]
    },
    {
      "cell_type": "code",
      "source": [
        "x_train_tensor.cpu().numpy()"
      ],
      "metadata": {
        "colab": {
          "base_uri": "https://localhost:8080/"
        },
        "id": "OHCD1U29L8Xa",
        "outputId": "ea27eef4-c094-4b54-eb88-f926422fbc6d"
      },
      "execution_count": 17,
      "outputs": [
        {
          "output_type": "execute_result",
          "data": {
            "text/plain": [
              "array([[0.77127033],\n",
              "       [0.06355835],\n",
              "       [0.86310345],\n",
              "       [0.02541913],\n",
              "       [0.7319939 ],\n",
              "       [0.07404465],\n",
              "       [0.19871569],\n",
              "       [0.31098232],\n",
              "       [0.47221494],\n",
              "       [0.96958464],\n",
              "       [0.12203824],\n",
              "       [0.77513283],\n",
              "       [0.802197  ],\n",
              "       [0.72960615],\n",
              "       [0.09767211],\n",
              "       [0.18485446],\n",
              "       [0.15601864],\n",
              "       [0.02058449],\n",
              "       [0.9868869 ],\n",
              "       [0.6232981 ],\n",
              "       [0.7080726 ],\n",
              "       [0.5979    ],\n",
              "       [0.9218742 ],\n",
              "       [0.63755745],\n",
              "       [0.2809345 ],\n",
              "       [0.25877997],\n",
              "       [0.11959425],\n",
              "       [0.7290072 ],\n",
              "       [0.94888556],\n",
              "       [0.60754484],\n",
              "       [0.5612772 ],\n",
              "       [0.4937956 ],\n",
              "       [0.18182497],\n",
              "       [0.27134904],\n",
              "       [0.96990985],\n",
              "       [0.21233912],\n",
              "       [0.1834045 ],\n",
              "       [0.8661761 ],\n",
              "       [0.37454012],\n",
              "       [0.29122913],\n",
              "       [0.80839735],\n",
              "       [0.05808361],\n",
              "       [0.83244264],\n",
              "       [0.54269606],\n",
              "       [0.77224475],\n",
              "       [0.88721275],\n",
              "       [0.08849251],\n",
              "       [0.04522729],\n",
              "       [0.59241456],\n",
              "       [0.684233  ],\n",
              "       [0.7132448 ],\n",
              "       [0.03438852],\n",
              "       [0.601115  ],\n",
              "       [0.81546146],\n",
              "       [0.4401525 ],\n",
              "       [0.32518333],\n",
              "       [0.785176  ],\n",
              "       [0.76078504],\n",
              "       [0.4951769 ],\n",
              "       [0.19967379],\n",
              "       [0.9507143 ],\n",
              "       [0.29214466],\n",
              "       [0.13949387],\n",
              "       [0.31171107],\n",
              "       [0.7068573 ],\n",
              "       [0.11586906],\n",
              "       [0.35846573],\n",
              "       [0.00552212],\n",
              "       [0.19598286],\n",
              "       [0.89482737],\n",
              "       [0.45606998],\n",
              "       [0.52475643],\n",
              "       [0.14092423],\n",
              "       [0.06505159],\n",
              "       [0.17052412],\n",
              "       [0.8287375 ],\n",
              "       [0.32533032],\n",
              "       [0.93949896],\n",
              "       [0.33089802],\n",
              "       [0.36636186]], dtype=float32)"
            ]
          },
          "metadata": {},
          "execution_count": 17
        }
      ]
    },
    {
      "cell_type": "markdown",
      "source": [
        "Now that we know how to handle tensors, we can use them to build a..."
      ],
      "metadata": {
        "id": "wYEndthRMFlq"
      }
    },
    {
      "cell_type": "markdown",
      "source": [
        "# Dataset"
      ],
      "metadata": {
        "id": "RmKIeUGYMGg0"
      }
    },
    {
      "cell_type": "markdown",
      "source": [
        "In PyTorch, a dataset is represented by a regular Python class that inherits from the Dataset class. You can think of it as a kind of a Python list of tuples, each tuple corresponding to one point (features, label)."
      ],
      "metadata": {
        "id": "4LqW2PL9MIm0"
      }
    },
    {
      "cell_type": "markdown",
      "source": [
        "# Tensor Dataset"
      ],
      "metadata": {
        "id": "7OYCZ8FvMKuI"
      }
    },
    {
      "cell_type": "markdown",
      "source": [
        "If a dataset is nothing else but a couple of tensors, we can use PyTorch’s TensorDataset class.\n",
        "\n",
        "Let's create some tensors out of our training data and use them to build a dataset!"
      ],
      "metadata": {
        "id": "OzL08-mUMPIP"
      }
    },
    {
      "cell_type": "code",
      "source": [
        "from torch.utils.data import TensorDataset\n",
        "\n",
        "x_train_tensor = torch.as_tensor(X_train).float()\n",
        "y_train_tensor = torch.as_tensor(y_train).float()\n",
        "\n",
        "train_data = TensorDataset(x_train_tensor, y_train_tensor)\n",
        "print(train_data[0])"
      ],
      "metadata": {
        "colab": {
          "base_uri": "https://localhost:8080/"
        },
        "id": "u6KY4x2DMBXb",
        "outputId": "7e65a5de-10f2-4abb-ca3f-072875c54eaf"
      },
      "execution_count": 19,
      "outputs": [
        {
          "output_type": "stream",
          "name": "stdout",
          "text": [
            "(tensor([0.7713]), tensor([2.4745]))\n"
          ]
        }
      ]
    },
    {
      "cell_type": "markdown",
      "source": [
        "---\n",
        "\n",
        "Did you notice we built our **training tensors** out of Numpy arrays but we **did not send them to a device**? So, they are **CPU** tensors now! **Why**?\n",
        "\n",
        "We **don’t want our whole training data to be loaded into GPU tensors** because **it takes up space** in our precious **graphics card’s RAM**.\n",
        "\n",
        "---"
      ],
      "metadata": {
        "id": "eXTv8-pJMUnp"
      }
    },
    {
      "cell_type": "markdown",
      "source": [
        "OK, fine, but then again, why are we building a dataset anyway? We’re doing it because we want to use a…"
      ],
      "metadata": {
        "id": "ckUUWJhEMZvf"
      }
    },
    {
      "cell_type": "markdown",
      "source": [
        "# DataLoader, splitting your data into mini-batches"
      ],
      "metadata": {
        "id": "F1jZhFwfMbN6"
      }
    },
    {
      "cell_type": "markdown",
      "source": [
        "We use PyTorch’s DataLoader class for this job. We tell it which dataset to use (the one we just built in the previous section), the desired mini-batch size and if we’d like to shuffle it or not. That’s it!\n",
        "\n",
        "Our loader will behave like an iterator, so we can loop over it and fetch a different mini-batch every time."
      ],
      "metadata": {
        "id": "oz3gXo6DMeaP"
      }
    },
    {
      "cell_type": "code",
      "source": [
        "from torch.utils.data import DataLoader\n",
        "\n",
        "train_loader = DataLoader(dataset=train_data, batch_size=16, shuffle=True)"
      ],
      "metadata": {
        "id": "Ago2_v-gMRE6"
      },
      "execution_count": 20,
      "outputs": []
    },
    {
      "cell_type": "markdown",
      "source": [
        "To retrieve a mini-batch, one can simply run the command below — it will return a list containing two tensors, one for the features, another one for the labels."
      ],
      "metadata": {
        "id": "i2j9vx3wMiA1"
      }
    },
    {
      "cell_type": "code",
      "source": [
        "x_train_batch, y_train_batch = next(iter(train_loader))\n",
        "# we send the mini-batch to a device\n",
        "x_train_batch = x_train_batch.to(device)\n",
        "y_train_batch = y_train_batch.to(device)"
      ],
      "metadata": {
        "id": "jYzxZa-TMg9a"
      },
      "execution_count": 21,
      "outputs": []
    },
    {
      "cell_type": "markdown",
      "source": [
        "Cool, we loaded our training data into a TensorDataset, and used a DataLoader to generate mini-batches. Now it's time to handle other type of tensors..."
      ],
      "metadata": {
        "id": "YjzPJC4ZMnCh"
      }
    },
    {
      "cell_type": "markdown",
      "source": [
        "# Creating Tensor for Parameters"
      ],
      "metadata": {
        "id": "StE0hJpVModN"
      }
    },
    {
      "cell_type": "markdown",
      "source": [
        "What distinguishes a *tensor* used for *data* — like the ones we’ve just created — from a **tensor** used as a (*trainable*) **parameter/weight**?\n",
        "\n",
        "The latter tensors require the **computation of its gradients**, so we can **update** their values (the parameters’ values, that is). That’s what the **`requires_grad=True`** argument is good for. It tells PyTorch we want it to compute gradients for us.\n",
        "\n",
        "---\n",
        "\n",
        "<h2><b><i>A tensor for a learnable parameter requires gradient!</i></b></h2>\n",
        "\n",
        "---\n",
        "\n",
        "You may be tempted to create a simple tensor for a parameter and, later on, send it to your chosen device, as we did with our data, right?\n",
        "\n",
        "Actually, you should **assign** tensors to a **device** at the moment of their **creation** to avoid unexpected behaviors..."
      ],
      "metadata": {
        "id": "OfCaToZ7MtjB"
      }
    },
    {
      "cell_type": "code",
      "source": [
        "# We can specify the device at the moment of creation - RECOMMENDED!\n",
        "torch.manual_seed(42)\n",
        "b = torch.randn(1, requires_grad=True, dtype=torch.float, device=device)\n",
        "w = torch.randn(1, requires_grad=True, dtype=torch.float, device=device)\n",
        "print(b, w)"
      ],
      "metadata": {
        "colab": {
          "base_uri": "https://localhost:8080/"
        },
        "id": "kyJu0f4FMk36",
        "outputId": "93f3a4f8-bfb7-4259-a00b-cc3b204965db"
      },
      "execution_count": 22,
      "outputs": [
        {
          "output_type": "stream",
          "name": "stdout",
          "text": [
            "tensor([0.1940], device='cuda:0', requires_grad=True) tensor([0.1391], device='cuda:0', requires_grad=True)\n"
          ]
        }
      ]
    },
    {
      "cell_type": "markdown",
      "source": [
        "That works fine for a tiny model like ours, but it isn't practical at all if the model has many parameters. Luckily, we can replace a bunch of individual parameters for a single Linear layer."
      ],
      "metadata": {
        "id": "CkHqUjpgMw4T"
      }
    },
    {
      "cell_type": "code",
      "source": [
        "torch.manual_seed(42)\n",
        "layer = nn.Linear(1, 1)\n",
        "print(layer.bias, layer.weight)"
      ],
      "metadata": {
        "colab": {
          "base_uri": "https://localhost:8080/"
        },
        "id": "gaF_d9G1Mvs6",
        "outputId": "a52f0e97-a703-4f83-8ef1-beff89d53660"
      },
      "execution_count": 23,
      "outputs": [
        {
          "output_type": "stream",
          "name": "stdout",
          "text": [
            "Parameter containing:\n",
            "tensor([0.8300], requires_grad=True) Parameter containing:\n",
            "tensor([[0.7645]], requires_grad=True)\n"
          ]
        }
      ]
    },
    {
      "cell_type": "markdown",
      "source": [
        "# Layers"
      ],
      "metadata": {
        "id": "ek9XnDEnM0Z3"
      }
    },
    {
      "cell_type": "markdown",
      "source": [
        "A **Linear** model can be seen as a **layer** in a neural network.\n",
        "\n",
        "<p align=\"center\">\n",
        "<img src=\"https://raw.githubusercontent.com/dvgodoy/AnalyticsVidhya_DataHour_PyTorch/main/images/layer.png\" width=\"50%\" height=\"50%\">\n",
        "</p>\n",
        "\n",
        "In the example above, the **hidden layer** would be `nn.Linear(3, 5)` and the **output layer** would be `nn.Linear(5, 1)`.\n",
        "\n",
        "\n",
        "There are **MANY** different layers that can be uses in PyTorch:\n",
        "- [Convolution Layers](https://pytorch.org/docs/stable/nn.html#convolution-layers)\n",
        "- [Pooling Layers](https://pytorch.org/docs/stable/nn.html#pooling-layers)\n",
        "- [Padding Layers](https://pytorch.org/docs/stable/nn.html#padding-layers)\n",
        "- [Non-linear Activations](https://pytorch.org/docs/stable/nn.html#non-linear-activations-weighted-sum-nonlinearity)\n",
        "- [Normalization Layers](https://pytorch.org/docs/stable/nn.html#normalization-layers)\n",
        "- [Recurrent Layers](https://pytorch.org/docs/stable/nn.html#recurrent-layers)\n",
        "- [Transformer Layers](https://pytorch.org/docs/stable/nn.html#transformer-layers)\n",
        "- [Linear Layers](https://pytorch.org/docs/stable/nn.html#linear-layers)\n",
        "- [Dropout Layers](https://pytorch.org/docs/stable/nn.html#dropout-layers)\n",
        "- [Sparse Layers (embbedings)](https://pytorch.org/docs/stable/nn.html#sparse-layers)\n",
        "- [Vision Layers](https://pytorch.org/docs/stable/nn.html#vision-layers)\n",
        "- [DataParallel Layers (multi-GPU)](https://pytorch.org/docs/stable/nn.html#dataparallel-layers-multi-gpu-distributed)\n",
        "- [Flatten Layer](https://pytorch.org/docs/stable/nn.html#flatten)\n",
        "\n",
        "We have just used a **Linear** layer."
      ],
      "metadata": {
        "id": "BANsnNGlM5ru"
      }
    },
    {
      "cell_type": "markdown",
      "source": [
        "Moreover, if we're sticking with a simple and straightforward model where the output of each layer feeds directly into the next, we can line them up using a sequential model!"
      ],
      "metadata": {
        "id": "vGERbrhmNFFZ"
      }
    },
    {
      "cell_type": "markdown",
      "source": [
        "<h2><b><i>Run-of-the-mill layers? Sequential model!</b></i></h2>\n",
        "\n",
        "For **straightforward models**, that use **run-of-the-mill layers**, where the output of a layer is sequentially fed as an input to the next, we can use a, er… [**Sequential**](https://bit.ly/3hRQTxP) model :-)\n",
        "\n",
        "In our case, we would build a Sequential model with a single argument, that is, the Linear layer we used to train our linear regression. The model would look like this:"
      ],
      "metadata": {
        "id": "OGFDFKoeNHOD"
      }
    },
    {
      "cell_type": "code",
      "source": [
        "n_features = 1\n",
        "n_outputs = 1\n",
        "\n",
        "torch.manual_seed(42)\n",
        "model = nn.Sequential()\n",
        "model.add_module('linear', nn.Linear(n_features, n_outputs, bias=True))\n",
        "model"
      ],
      "metadata": {
        "colab": {
          "base_uri": "https://localhost:8080/"
        },
        "id": "wh4gBR9sMygZ",
        "outputId": "a586fbdf-5718-4f65-9723-0c86b311fac9"
      },
      "execution_count": 24,
      "outputs": [
        {
          "output_type": "execute_result",
          "data": {
            "text/plain": [
              "Sequential(\n",
              "  (linear): Linear(in_features=1, out_features=1, bias=True)\n",
              ")"
            ]
          },
          "metadata": {},
          "execution_count": 24
        }
      ]
    },
    {
      "cell_type": "markdown",
      "source": [
        "### Device"
      ],
      "metadata": {
        "id": "k2xqp_-BNL9_"
      }
    },
    {
      "cell_type": "markdown",
      "source": [
        "**IMPORTANT**: we need to **send our model to the same device where the data is**. If our data is made of GPU tensors, our model must “live” inside the GPU as well."
      ],
      "metadata": {
        "id": "o5TV5T-ENScR"
      }
    },
    {
      "cell_type": "code",
      "source": [
        "model.to(device)"
      ],
      "metadata": {
        "colab": {
          "base_uri": "https://localhost:8080/"
        },
        "id": "xEwvgRTNNKZa",
        "outputId": "d5945f0d-e860-44b3-ea2c-6e3d530e9c25"
      },
      "execution_count": 25,
      "outputs": [
        {
          "output_type": "execute_result",
          "data": {
            "text/plain": [
              "Sequential(\n",
              "  (linear): Linear(in_features=1, out_features=1, bias=True)\n",
              ")"
            ]
          },
          "metadata": {},
          "execution_count": 25
        }
      ]
    },
    {
      "cell_type": "markdown",
      "source": [
        "### state_dict"
      ],
      "metadata": {
        "id": "xpwxyHvlNWJ6"
      }
    },
    {
      "cell_type": "markdown",
      "source": [
        "The **state_dict()** of a given model is simply a Python dictionary that **maps each layer / parameter to its corresponding tensor**. But only **learnable** parameters are included, as its purpose is to keep track of parameters that are going to be updated."
      ],
      "metadata": {
        "id": "hs29osVpNXRU"
      }
    },
    {
      "cell_type": "code",
      "source": [
        "model.state_dict()"
      ],
      "metadata": {
        "colab": {
          "base_uri": "https://localhost:8080/"
        },
        "id": "-a8EbA1XNUaJ",
        "outputId": "90bd67a2-abf0-43da-9504-2153fcc4caca"
      },
      "execution_count": 26,
      "outputs": [
        {
          "output_type": "execute_result",
          "data": {
            "text/plain": [
              "OrderedDict([('linear.weight', tensor([[0.7645]], device='cuda:0')),\n",
              "             ('linear.bias', tensor([0.8300], device='cuda:0'))])"
            ]
          },
          "metadata": {},
          "execution_count": 26
        }
      ]
    },
    {
      "cell_type": "code",
      "source": [
        "model.linear.weight"
      ],
      "metadata": {
        "colab": {
          "base_uri": "https://localhost:8080/"
        },
        "id": "dyX-wVcONayY",
        "outputId": "563839d7-b90e-4c2d-dea6-7cba6ad3f21c"
      },
      "execution_count": 27,
      "outputs": [
        {
          "output_type": "execute_result",
          "data": {
            "text/plain": [
              "Parameter containing:\n",
              "tensor([[0.7645]], device='cuda:0', requires_grad=True)"
            ]
          },
          "metadata": {},
          "execution_count": 27
        }
      ]
    },
    {
      "cell_type": "markdown",
      "source": [
        "Now that we know how to create tensors and models that require gradients, let’s see how PyTorch handles them — that’s the role of the…"
      ],
      "metadata": {
        "id": "Zhl_MbcsNeP8"
      }
    },
    {
      "cell_type": "markdown",
      "source": [
        "## Gradient Descent in 5 easy steps!"
      ],
      "metadata": {
        "id": "_MEgGYy9NhZY"
      }
    },
    {
      "cell_type": "markdown",
      "source": [
        "Gradient descent is the most common **optimization algorithm** in Machine Learning and Deep Learning.\n",
        "\n",
        "The purpose of using gradient descent is **to minimize the loss**, that is, **minimize the errors between predictions and actual values** (and sometimes some other term as well).\n",
        "\n",
        "It goes beyond the scope of this tutorial to fully explain how gradient descent works, but I'll cover the **five basic steps** you'd need to go through to compute it, namely:\n",
        "\n",
        "- Step 0: Random initialize parameters / weights\n",
        "- Step 1: Compute model's predictions - forward pass\n",
        "- Step 2: Compute loss\n",
        "- Step 3: Compute the gradients\n",
        "- Step 4: Update the parameters\n",
        "- Step 5: Rinse and repeat!\n",
        "\n",
        "---\n",
        "\n",
        "If you want to learn more about gradient descent, check the following resources:\n",
        "- [**Linear Regression Simulator**](https://www.mladdict.com/linear-regression-simulator), which goes through the very same steps listed here\n",
        "- [**A Visual and Interactive Guide to the Basics of Neural Networks**](http://jalammar.github.io/visual-interactive-guide-basics-neural-networks/)\n",
        "- [**Gradient Descent Algorithms and Its Variants**](https://towardsdatascience.com/gradient-descent-algorithm-and-its-variants-10f652806a3)\n",
        "\n",
        "---"
      ],
      "metadata": {
        "id": "rADoTiM7NhAJ"
      }
    },
    {
      "cell_type": "markdown",
      "source": [
        "### Step 0: Initialization\n",
        "\n",
        "Technically, this step is not part of gradient descent, but it is an important step nonetheless.\n",
        "\n",
        "For training a model, you need to **randomly initialize the parameters/weights**.\n",
        "\n",
        "Make sure to *always initialize your random seed* to ensure **reproducibility** of your results. As usual, the random seed is [42](https://en.wikipedia.org/wiki/Phrases_from_The_Hitchhiker%27s_Guide_to_the_Galaxy#Answer_to_the_Ultimate_Question_of_Life,_the_Universe,_and_Everything_(42)), the *least random* of all random seeds one could possibly choose :-)"
      ],
      "metadata": {
        "id": "Doiw2s03Nlvz"
      }
    },
    {
      "cell_type": "code",
      "source": [
        "# Step 0\n",
        "torch.manual_seed(42)\n",
        "\n",
        "model = nn.Sequential()\n",
        "model.add_module('linear', nn.Linear(n_features, n_outputs, bias=True))\n",
        "model.to(device)\n",
        "print(model.state_dict())"
      ],
      "metadata": {
        "colab": {
          "base_uri": "https://localhost:8080/"
        },
        "id": "qzg6XeTgNcYp",
        "outputId": "78d3cfd0-8744-4d5d-8ff8-b99d035d8a58"
      },
      "execution_count": 28,
      "outputs": [
        {
          "output_type": "stream",
          "name": "stdout",
          "text": [
            "OrderedDict([('linear.weight', tensor([[0.7645]], device='cuda:0')), ('linear.bias', tensor([0.8300], device='cuda:0'))])\n"
          ]
        }
      ]
    },
    {
      "cell_type": "markdown",
      "source": [
        "### Step 1: Compute Model's Predictions\n",
        "\n",
        "This is the **forward pass** - it simply *computes the model's predictions using the current values of the parameters/weights*. At the very beginning, we will be producing really bad predictions, as we started with random values from Step 0.\n",
        "\n",
        "Predictions for a simple linear regression like ours *could* be computed like this, but that's not practical at all..."
      ],
      "metadata": {
        "id": "tLnww_aeNohk"
      }
    },
    {
      "cell_type": "code",
      "source": [
        "yhat = model.linear.bias + model.linear.weight * x_train_batch\n",
        "yhat[:3]"
      ],
      "metadata": {
        "colab": {
          "base_uri": "https://localhost:8080/"
        },
        "id": "PtIDJtGyNn55",
        "outputId": "4dc42e67-774a-44bc-873b-deb410ea8f52"
      },
      "execution_count": 29,
      "outputs": [
        {
          "output_type": "execute_result",
          "data": {
            "text/plain": [
              "tensor([[0.9186],\n",
              "        [1.4204],\n",
              "        [1.2829]], device='cuda:0', grad_fn=<SliceBackward0>)"
            ]
          },
          "metadata": {},
          "execution_count": 29
        }
      ]
    },
    {
      "cell_type": "markdown",
      "source": [
        "We can use our model class instead:"
      ],
      "metadata": {
        "id": "iZ4v2iCqNtYq"
      }
    },
    {
      "cell_type": "code",
      "source": [
        "yhat = model(x_train_batch)\n",
        "yhat[:3]"
      ],
      "metadata": {
        "colab": {
          "base_uri": "https://localhost:8080/"
        },
        "id": "PswWXIqnNrrZ",
        "outputId": "38e3ac32-6c84-4da9-b4aa-0e7e80b1ba53"
      },
      "execution_count": 30,
      "outputs": [
        {
          "output_type": "execute_result",
          "data": {
            "text/plain": [
              "tensor([[0.9186],\n",
              "        [1.4204],\n",
              "        [1.2829]], device='cuda:0', grad_fn=<SliceBackward0>)"
            ]
          },
          "metadata": {},
          "execution_count": 30
        }
      ]
    },
    {
      "cell_type": "markdown",
      "source": [
        "---\n",
        "\n",
        "Even though models have a `forward` method, you should **NOT call the `forward(x)`** method. You should always **call the whole model itself**, as in **`model(x)`** to perform a forward pass and output predictions.\n",
        "\n",
        "---"
      ],
      "metadata": {
        "id": "1ihMM6rsNw8N"
      }
    },
    {
      "cell_type": "markdown",
      "source": [
        "In PyTorch, models have a [**train()**](https://bit.ly/30VW2Ox) method which, somewhat disappointingly, **does NOT perform a training step**. Its only purpose is to **set the model to training mode**. \n",
        "\n",
        "Why is this important? Some models may use mechanisms like [**Dropout**](https://bit.ly/2X7v5pU), for instance, which have **distinct behaviors in training and evaluation phases**."
      ],
      "metadata": {
        "id": "lpyygMdGNzDI"
      }
    },
    {
      "cell_type": "code",
      "source": [
        "# Step 1\n",
        "# Computes our model's predicted output\n",
        "model.train()\n",
        "yhat = model(x_train_batch)\n",
        "yhat[:3]"
      ],
      "metadata": {
        "colab": {
          "base_uri": "https://localhost:8080/"
        },
        "id": "NucHMpxHNvQ5",
        "outputId": "3f7dc8a6-248c-4ebd-9fa5-970ea399e08e"
      },
      "execution_count": 31,
      "outputs": [
        {
          "output_type": "execute_result",
          "data": {
            "text/plain": [
              "tensor([[0.9186],\n",
              "        [1.4204],\n",
              "        [1.2829]], device='cuda:0', grad_fn=<SliceBackward0>)"
            ]
          },
          "metadata": {},
          "execution_count": 31
        }
      ]
    },
    {
      "cell_type": "markdown",
      "source": [
        "There is a subtle but fundamental difference between **error** and **loss**. \n",
        "\n",
        "The **error** is the difference between **actual** and **predicted** computed for a single data point.\n",
        "\n",
        "$$\n",
        "\\Large \\text{error}_i = \\hat{y_i} - y_i\n",
        "$$\n",
        "\n",
        "The **loss**, on the other hand, is some sort of **aggregation of errors for a set of data points**.\n",
        "\n",
        "For a regression problem, the **loss** is given by the **Mean Squared Error (MSE)**, that is, the average of all squared differences between **actual values** (y) and **predictions** (a + bx).\n",
        "\n",
        "$$\n",
        "\\large \\text{MSE} = \\frac{1}{N} \\sum_{i=1}^N{\\text{error}_i}^2\n",
        "$$\n",
        "\n",
        "$$\n",
        "\\large \\text{MSE} = \\frac{1}{N} \\sum_{i=1}^N{(\\hat{y_i} - y_i)}^2\n",
        "$$\n",
        "\n",
        "$$\n",
        "\\large \\text{MSE} = \\frac{1}{N} \\sum_{i=1}^N{(b + w x_i - y_i)}^2\n",
        "$$\n",
        "\n",
        "---\n",
        "\n",
        "It is worth mentioning that, if we **compute the loss** using:\n",
        "- **all points** in the training set (N), we are performing a **batch** gradient descent\n",
        "- a **single point** at each time, it would be a **stochastic** gradient descent\n",
        "- anything else (n) **in-between 1 and N** characterizes a **mini-batch** gradient descent\n",
        "\n",
        "---\n",
        "\n",
        "<p align=\"center\">\n",
        "<img src=\"https://raw.githubusercontent.com/dvgodoy/AnalyticsVidhya_DataHour_PyTorch/main/images/gradient_descent.png\">\n",
        "</p>"
      ],
      "metadata": {
        "id": "rOB2vmaEN2fJ"
      }
    },
    {
      "cell_type": "code",
      "source": [
        "# How wrong is our model? That's the error! \n",
        "error = (yhat - y_train_batch)\n",
        "\n",
        "# It is a regression, so it computes mean squared error (MSE)\n",
        "loss = (error ** 2).mean()\n",
        "\n",
        "print(loss)"
      ],
      "metadata": {
        "colab": {
          "base_uri": "https://localhost:8080/"
        },
        "id": "8tRDC_k9N1Fp",
        "outputId": "26f9eede-b2cd-4bb3-a63e-c04dc6a6987d"
      },
      "execution_count": 32,
      "outputs": [
        {
          "output_type": "stream",
          "name": "stdout",
          "text": [
            "tensor(0.7127, device='cuda:0', grad_fn=<MeanBackward0>)\n"
          ]
        }
      ]
    },
    {
      "cell_type": "markdown",
      "source": [
        "### Loss: aggregating errors into a single value"
      ],
      "metadata": {
        "id": "WuRkezDnPjny"
      }
    },
    {
      "cell_type": "markdown",
      "source": [
        "Computing losses manually isn't great. Luckily, PyTorch got us covered once again. There are many [loss functions](https://pytorch.org/docs/stable/nn.html#loss-functions) to choose from, depending on the task at hand. Since ours is a regression, we are using the [Mean Square Error (MSE)](https://bit.ly/3hNYn4R) loss.\n",
        "\n",
        "---\n",
        "\n",
        "Notice that `nn.MSELoss` actually **creates a loss function** for us — **it is NOT the loss function itself**. Moreover, you can specify a **reduction method** to be applied, that is, **how do you want to aggregate the results for individual points** — you can average them (reduction=’mean’) or simply sum them up (reduction=’sum’).\n",
        "\n",
        "---"
      ],
      "metadata": {
        "id": "GLUc9xWmPkUx"
      }
    },
    {
      "cell_type": "code",
      "source": [
        "# Defines a MSE loss function\n",
        "loss_fn = nn.MSELoss(reduction='mean')\n",
        "\n",
        "loss_fn"
      ],
      "metadata": {
        "colab": {
          "base_uri": "https://localhost:8080/"
        },
        "id": "nX8-7_VOPh_o",
        "outputId": "a4ed37b0-d69d-4904-c5e4-7d05ee480616"
      },
      "execution_count": 33,
      "outputs": [
        {
          "output_type": "execute_result",
          "data": {
            "text/plain": [
              "MSELoss()"
            ]
          },
          "metadata": {},
          "execution_count": 33
        }
      ]
    },
    {
      "cell_type": "markdown",
      "source": [
        "We then **use** the created loss function to compute the loss given our **predictions** and our **labels**."
      ],
      "metadata": {
        "id": "Sy4M9GZ4PpOz"
      }
    },
    {
      "cell_type": "code",
      "source": [
        "loss = loss_fn(yhat, y_train_batch)\n",
        "loss"
      ],
      "metadata": {
        "colab": {
          "base_uri": "https://localhost:8080/"
        },
        "id": "mo8Hw4cWPn4h",
        "outputId": "2d713ccf-d54f-40b8-d8bc-6d0a977405f4"
      },
      "execution_count": 34,
      "outputs": [
        {
          "output_type": "execute_result",
          "data": {
            "text/plain": [
              "tensor(0.7127, device='cuda:0', grad_fn=<MseLossBackward0>)"
            ]
          },
          "metadata": {},
          "execution_count": 34
        }
      ]
    },
    {
      "cell_type": "markdown",
      "source": [
        "### Step 3: Compute the Gradients"
      ],
      "metadata": {
        "id": "zNdru5PfPsVX"
      }
    },
    {
      "cell_type": "markdown",
      "source": [
        "A **gradient** is a **partial derivative** — *why partial*? Because one computes it with respect to (w.r.t.) a **single parameter**. We have two parameters, **b** and **w**, so we must compute two partial derivatives.\n",
        "\n",
        "A **derivative** tells you *how much* **a given quantity changes** when you *slightly* vary some **other quantity**. In our case, how much does our **MSE** **loss** change when we vary **each one of our two parameters**?\n",
        "\n",
        "The *right-most* part of the equations below is what you usually see in implementations of gradient descent for a simple linear regression. In the **intermediate step**, I show you **all elements** that pop-up from the application of the [chain rule](https://en.wikipedia.org/wiki/Chain_rule), so you know how the final expression came to be.\n",
        "\n",
        "---\n",
        "\n",
        "<h3><i><b>Gradient = how much the LOSS changes if ONE parameter changes a little bit!</b></i></h3>\n",
        "\n",
        "---"
      ],
      "metadata": {
        "id": "WkS8aec5PvvR"
      }
    },
    {
      "cell_type": "markdown",
      "source": [
        "**Gradients**:\n",
        "\n",
        "$$\n",
        "\\large \\frac{\\partial{\\text{MSE}}}{\\partial{b}} = \\frac{\\partial{\\text{MSE}}}{\\partial{\\hat{y_i}}} \\frac{\\partial{\\hat{y_i}}}{\\partial{b}} = \\frac{1}{N} \\sum_{i=1}^N{2(b + w x_i - y_i)} = 2 \\frac{1}{N} \\sum_{i=1}^N{(\\hat{y_i} - y_i)}\n",
        "$$ \n",
        "\n",
        "$$\n",
        "\\large \\frac{\\partial{\\text{MSE}}}{\\partial{w}} = \\frac{\\partial{\\text{MSE}}}{\\partial{\\hat{y_i}}} \\frac{\\partial{\\hat{y_i}}}{\\partial{w}} = \\frac{1}{N} \\sum_{i=1}^N{2(b + w x_i - y_i) \\cdot x_i} = 2 \\frac{1}{N} \\sum_{i=1}^N{x_i (\\hat{y_i} - y_i)}\n",
        "$$\n"
      ],
      "metadata": {
        "id": "WFsmeNFKP0YK"
      }
    },
    {
      "cell_type": "code",
      "source": [
        "# Computes gradients for both \"b\" and \"w\" parameters\n",
        "b_grad = 2 * error.mean()\n",
        "w_grad = 2 * (x_train_batch * error).mean()\n",
        "print(b_grad, w_grad)"
      ],
      "metadata": {
        "colab": {
          "base_uri": "https://localhost:8080/"
        },
        "id": "w4XytsUYPq7A",
        "outputId": "ba4bbaa3-d269-4fc7-9368-bdd0dfde20d4"
      },
      "execution_count": 36,
      "outputs": [
        {
          "output_type": "stream",
          "name": "stdout",
          "text": [
            "tensor(-1.4898, device='cuda:0', grad_fn=<MulBackward0>) tensor(-0.9395, device='cuda:0', grad_fn=<MulBackward0>)\n"
          ]
        }
      ]
    },
    {
      "cell_type": "markdown",
      "source": [
        "## Autograd, your companion for all your gradient needs!"
      ],
      "metadata": {
        "id": "lnCtr7FWP4Mr"
      }
    },
    {
      "cell_type": "markdown",
      "source": [
        "Autograd is PyTorch’s *automatic differentiation package*. Thanks to it, we **don’t need to worry** about partial derivatives, chain rule or anything like it.\n",
        "\n",
        "<h2><b><i>Computing gradients manually?! No way! Backward!</b></i></h2>\n"
      ],
      "metadata": {
        "id": "TNXJarO2P6Mm"
      }
    },
    {
      "cell_type": "markdown",
      "source": [
        "### backward"
      ],
      "metadata": {
        "id": "EWGkgv0NP8lf"
      }
    },
    {
      "cell_type": "markdown",
      "source": [
        "So, how do we tell PyTorch to do its thing and **compute all gradients**? That’s what [**backward()**](https://bit.ly/3eV9Dub) is good for.\n",
        "\n",
        "Do you remember the **starting point** for **computing the gradients**? It was the **loss**, as we computed its partial derivatives w.r.t. our parameters. Hence, we need to invoke the `backward()` method from the corresponding Python variable, like, `loss.backward()`."
      ],
      "metadata": {
        "id": "3ZWxMTrgP8bv"
      }
    },
    {
      "cell_type": "code",
      "source": [
        "yhat = model(x_train_batch)\n",
        "loss = loss_fn(yhat, y_train_batch)\n",
        "# Step 3    \n",
        "# No more manual computation of gradients! \n",
        "loss.backward()"
      ],
      "metadata": {
        "id": "8eEKQyoVPuHh"
      },
      "execution_count": 37,
      "outputs": []
    },
    {
      "cell_type": "markdown",
      "source": [
        "### grad / zero_"
      ],
      "metadata": {
        "id": "aWAce5K4QBsY"
      }
    },
    {
      "cell_type": "markdown",
      "source": [
        "\n",
        "What about the **actual values** of the **gradients**? We can inspect them by looking at the [**grad**](https://bit.ly/3fYtNFa) **attribute** of a tensor."
      ],
      "metadata": {
        "id": "5E4oyX_XQC-_"
      }
    },
    {
      "cell_type": "code",
      "source": [
        "model.linear.weight.grad, model.linear.bias.grad"
      ],
      "metadata": {
        "colab": {
          "base_uri": "https://localhost:8080/"
        },
        "id": "dniVXo6qQAd3",
        "outputId": "7237d827-5de8-4207-eddd-e93fdcc5cd51"
      },
      "execution_count": 38,
      "outputs": [
        {
          "output_type": "execute_result",
          "data": {
            "text/plain": [
              "(tensor([[-0.9395]], device='cuda:0'), tensor([-1.4898], device='cuda:0'))"
            ]
          },
          "metadata": {},
          "execution_count": 38
        }
      ]
    },
    {
      "cell_type": "markdown",
      "source": [
        "If you check the method’s documentation, it clearly states that **gradients are accumulated**. \n",
        "\n",
        "So, every time we use the **gradients** to **update** the parameters, we need to **zero the gradients afterwards**. And that’s what [**zero_()**](https://pytorch.org/docs/stable/generated/torch.Tensor.zero_.html#torch.Tensor.zero_) is good for.\n",
        "\n",
        "---\n",
        "\n",
        "*In PyTorch, every method that **ends** with an **underscore (_)** makes changes **in-place**, meaning, they will **modify** the underlying variable.*\n",
        "\n",
        "---"
      ],
      "metadata": {
        "id": "68Cjf34EQLXn"
      }
    },
    {
      "cell_type": "code",
      "source": [
        "model.linear.weight.grad.zero_(), model.linear.bias.grad.zero_()"
      ],
      "metadata": {
        "colab": {
          "base_uri": "https://localhost:8080/"
        },
        "id": "MSSEtHj2QJIm",
        "outputId": "e6b3ce52-dd4c-40de-cd5e-cc30a6d34bae"
      },
      "execution_count": 39,
      "outputs": [
        {
          "output_type": "execute_result",
          "data": {
            "text/plain": [
              "(tensor([[0.]], device='cuda:0'), tensor([0.], device='cuda:0'))"
            ]
          },
          "metadata": {},
          "execution_count": 39
        }
      ]
    },
    {
      "cell_type": "markdown",
      "source": [
        "### Step 4: Update the Parameters"
      ],
      "metadata": {
        "id": "HIOYQpfpQss3"
      }
    },
    {
      "cell_type": "markdown",
      "source": [
        "In the final step, we **use the gradients to update** the parameters. Since we are trying to **minimize** our **losses**, we **reverse the sign** of the gradient for the update.\n",
        "\n",
        "There is still another parameter to consider: the **learning rate**, denoted by the *Greek letter* **eta** (that looks like the letter **n**), which is the **multiplicative factor** that we need to apply to the gradient for the parameter update."
      ],
      "metadata": {
        "id": "JgFH4do2Qvx7"
      }
    },
    {
      "cell_type": "markdown",
      "source": [
        "**Parameters**:\n",
        "\n",
        "$$\n",
        "\\large b = b - \\eta \\frac{\\partial{\\text{MSE}}}{\\partial{b}}\n",
        "$$\n",
        "\n",
        "$$\n",
        "\\large w = w - \\eta \\frac{\\partial{\\text{MSE}}}{\\partial{w}}\n",
        "$$"
      ],
      "metadata": {
        "id": "4HK_eHiyQsmZ"
      }
    },
    {
      "cell_type": "markdown",
      "source": [
        "### Optimizer:  learning the parameters step-by-step"
      ],
      "metadata": {
        "id": "8kM2oJguQ0Cu"
      }
    },
    {
      "cell_type": "markdown",
      "source": [
        "Updating parameters **manually** is probably fine for *two parameters*… but what if we had a **whole lot of them**?! We use one of PyTorch’s **optimizers**, like [SGD](https://pytorch.org/docs/stable/optim.html#torch.optim.SGD) or [Adam](https://pytorch.org/docs/stable/optim.html#torch.optim.Adam).\n",
        "\n",
        "---\n",
        "\n",
        "There are **many** optimizers, **SGD** is the most basic of them and **Adam** is one of the most popular. They achieve the same goal through, literally, **different paths**.\n",
        "\n",
        "<p align=\"center\">\n",
        "<img src=\"https://raw.githubusercontent.com/dvgodoy/AnalyticsVidhya_DataHour_PyTorch/main/images/sgd_adam_paths.png\" width=\"50%\"/>\n",
        "</p>\n",
        "\n",
        "---\n",
        "\n",
        "In the code below, we create a *Stochastic Gradient Descent* (SGD) optimizer to update our parameters **b** and **w**.\n",
        "\n",
        "---\n",
        "\n",
        "Don’t be fooled by the **optimizer’s** name: if we use **all training data** at once for the update the optimizer is performing a **batch** gradient descent, despite of its name.\n",
        "\n",
        "---"
      ],
      "metadata": {
        "id": "yTdHi5YqQ14c"
      }
    },
    {
      "cell_type": "markdown",
      "source": [
        "Let's start with a value of **0.1** (which is a relatively *high value*, as far as learning rates are concerned!)."
      ],
      "metadata": {
        "id": "DOVwxJ1XQ4bx"
      }
    },
    {
      "cell_type": "code",
      "source": [
        "# Learning rate\n",
        "lr = 1e-1\n",
        "# Defines a SGD optimizer to update the parameters\n",
        "optimizer = optim.SGD(model.parameters(), lr=lr)"
      ],
      "metadata": {
        "id": "G8Jm9z42QNY3"
      },
      "execution_count": 40,
      "outputs": []
    },
    {
      "cell_type": "code",
      "source": [
        "list(model.parameters())"
      ],
      "metadata": {
        "colab": {
          "base_uri": "https://localhost:8080/"
        },
        "id": "51UKR_iPQ58W",
        "outputId": "515020d4-ffe8-4dc0-d057-bc871f49eaba"
      },
      "execution_count": 41,
      "outputs": [
        {
          "output_type": "execute_result",
          "data": {
            "text/plain": [
              "[Parameter containing:\n",
              " tensor([[0.7645]], device='cuda:0', requires_grad=True), Parameter containing:\n",
              " tensor([0.8300], device='cuda:0', requires_grad=True)]"
            ]
          },
          "metadata": {},
          "execution_count": 41
        }
      ]
    },
    {
      "cell_type": "markdown",
      "source": [
        "### step / zero_grad"
      ],
      "metadata": {
        "id": "WbWqLm-PQ8kQ"
      }
    },
    {
      "cell_type": "markdown",
      "source": [
        "An optimizer takes the **parameters** we want to update, the **learning rate** we want to use (and possibly many other hyper-parameters as well!) and **performs the updates** through its [**`step()`**](https://pytorch.org/docs/stable/generated/torch.optim.Optimizer.step.html#torch.optim.Optimizer.step) method."
      ],
      "metadata": {
        "id": "vWLSQNkfQ-yo"
      }
    },
    {
      "cell_type": "code",
      "source": [
        "yhat = model(x_train_batch)\n",
        "loss = loss_fn(yhat, y_train_batch)\n",
        "\n",
        "loss.backward()\n",
        "print(model.linear.weight.grad, model.linear.bias.grad)"
      ],
      "metadata": {
        "colab": {
          "base_uri": "https://localhost:8080/"
        },
        "id": "Q1fWoYzTQ7Um",
        "outputId": "c3bbc0d1-6ab5-4ff2-969b-9eec39fa7658"
      },
      "execution_count": 42,
      "outputs": [
        {
          "output_type": "stream",
          "name": "stdout",
          "text": [
            "tensor([[-0.9395]], device='cuda:0') tensor([-1.4898], device='cuda:0')\n"
          ]
        }
      ]
    },
    {
      "cell_type": "code",
      "source": [
        "optimizer.step()\n",
        "print(model.linear.weight.grad, model.linear.bias.grad)"
      ],
      "metadata": {
        "colab": {
          "base_uri": "https://localhost:8080/"
        },
        "id": "lr4xWxz1RAaV",
        "outputId": "719ded5a-c270-4336-f020-219aed9d301f"
      },
      "execution_count": 43,
      "outputs": [
        {
          "output_type": "stream",
          "name": "stdout",
          "text": [
            "tensor([[-0.9395]], device='cuda:0') tensor([-1.4898], device='cuda:0')\n"
          ]
        }
      ]
    },
    {
      "cell_type": "markdown",
      "source": [
        "Besides, we also don’t need to zero the gradients one by one anymore. We just invoke the optimizer’s [**`zero_grad()`**](https://pytorch.org/docs/stable/generated/torch.optim.Optimizer.zero_grad.html#torch.optim.Optimizer.zero_grad) method and that’s it!"
      ],
      "metadata": {
        "id": "YjZp81bFRC27"
      }
    },
    {
      "cell_type": "code",
      "source": [
        "optimizer.zero_grad()\n",
        "print(model.linear.weight.grad, model.linear.bias.grad)"
      ],
      "metadata": {
        "colab": {
          "base_uri": "https://localhost:8080/"
        },
        "id": "fBqICsZARBmF",
        "outputId": "1ce33153-ccf4-44d5-f94a-2a095bd7079e"
      },
      "execution_count": 44,
      "outputs": [
        {
          "output_type": "stream",
          "name": "stdout",
          "text": [
            "tensor([[0.]], device='cuda:0') tensor([0.], device='cuda:0')\n"
          ]
        }
      ]
    },
    {
      "cell_type": "code",
      "source": [
        "print(model.linear.weight, model.linear.bias)"
      ],
      "metadata": {
        "colab": {
          "base_uri": "https://localhost:8080/"
        },
        "id": "FrkvU8bGRE4X",
        "outputId": "bb4c8f2e-7498-4cd0-f9e7-3f782ec57ea0"
      },
      "execution_count": 45,
      "outputs": [
        {
          "output_type": "stream",
          "name": "stdout",
          "text": [
            "Parameter containing:\n",
            "tensor([[0.8585]], device='cuda:0', requires_grad=True) Parameter containing:\n",
            "tensor([0.9790], device='cuda:0', requires_grad=True)\n"
          ]
        }
      ]
    },
    {
      "cell_type": "markdown",
      "source": [
        "---\n",
        "\n",
        "<h2><b><i>\"Choose your learning rate wisely...\"</b></i></h2>\n",
        "\n",
        "<h3><i><b>The learning rate is the single most important hyper-parameter to tune when you are using Deep Learning models!</b></i></h3>\n",
        "\n",
        "What happens if I choose the learning rate **poorly**? Your model may **take too long to train** or **get stuck with a high loss** or, even worse, **diverge into an exploding loss**!\n",
        "\n",
        "<p align=\"center\">\n",
        "<img src=\"https://raw.githubusercontent.com/dvgodoy/AnalyticsVidhya_DataHour_PyTorch/main/images/learning_rates.png\" width=\"50%\">\n",
        "</p>\n",
        "\n",
        "---"
      ],
      "metadata": {
        "id": "SQHLkXxWRHnk"
      }
    },
    {
      "cell_type": "markdown",
      "source": [
        "### Step 5: Rinse and Repeat!"
      ],
      "metadata": {
        "id": "lrY0-BUrRKlu"
      }
    },
    {
      "cell_type": "markdown",
      "source": [
        "Now we use the **updated parameters** to go back to **Step 1** and restart the process.\n",
        "\n",
        "Repeating this process over and over, for **many epochs**, is, in a nutshell, **training** a model.\n",
        "\n",
        "---\n",
        "\n",
        "An **epoch** is complete whenever **every point has been already used once for computing the loss**: \n",
        "- **batch** gradient descent: this is trivial, as it uses all points for computing the loss — **one epoch** is the same as **one update**\n",
        "- **stochastic** gradient descent: **one epoch** means **N updates**\n",
        "- **mini-batch** (of size n): **one epoch** has **N/n updates**\n",
        "\n",
        "---\n",
        "\n",
        "\n",
        "Let's put the previous pieces of code together and loop over many epochs:"
      ],
      "metadata": {
        "id": "pKW_vN5oRKi-"
      }
    },
    {
      "cell_type": "code",
      "source": [
        "lr = 0.1\n",
        "# Defines number of epochs\n",
        "n_epochs = 200\n",
        "\n",
        "torch.manual_seed(42)\n",
        "\n",
        "n_features = 1\n",
        "n_outputs = 1\n",
        "model = nn.Sequential()\n",
        "model.add_module('linear', nn.Linear(n_features, n_outputs, bias=True))\n",
        "model.to(device)\n",
        "\n",
        "# Defines a MSE loss function\n",
        "loss_fn = nn.MSELoss(reduction='mean')\n",
        "\n",
        "optimizer = optim.SGD(model.parameters(), lr=lr)\n",
        "\n",
        "for epoch in range(n_epochs):\n",
        "    for x_train_batch, y_train_batch in train_loader:\n",
        "        x_train_batch = x_train_batch.to(device)\n",
        "        y_train_batch = y_train_batch.to(device)\n",
        "        # Step 1\n",
        "        yhat = model(x_train_batch)\n",
        "\n",
        "        # Step 2\n",
        "        loss = loss_fn(yhat, y_train_batch)\n",
        "\n",
        "        # Step 3\n",
        "        loss.backward() \n",
        "\n",
        "        # Step 4\n",
        "        optimizer.step()\n",
        "        optimizer.zero_grad()"
      ],
      "metadata": {
        "id": "AhkeKQ0CRGUm"
      },
      "execution_count": 46,
      "outputs": []
    },
    {
      "cell_type": "code",
      "source": [
        "print(model.state_dict())"
      ],
      "metadata": {
        "colab": {
          "base_uri": "https://localhost:8080/"
        },
        "id": "hVz_fkHOROCl",
        "outputId": "6832bdf5-aa17-493a-c8f8-f3a2a8c0d5af"
      },
      "execution_count": 47,
      "outputs": [
        {
          "output_type": "stream",
          "name": "stdout",
          "text": [
            "OrderedDict([('linear.weight', tensor([[1.9684]], device='cuda:0')), ('linear.bias', tensor([1.0219], device='cuda:0'))])\n"
          ]
        }
      ]
    },
    {
      "cell_type": "markdown",
      "source": [
        "Just keep in mind that, if you **don’t** use batch gradient descent (our example does), you’ll have to write an **inner loop** to perform the **four training steps** for either each **individual point** (**stochastic**) or **n points** (**mini-batch**). We’ll see a mini-batch example later down the line."
      ],
      "metadata": {
        "id": "rHXqjygORQuF"
      }
    },
    {
      "cell_type": "markdown",
      "source": [
        "### Sanity Check"
      ],
      "metadata": {
        "id": "0S3HLjI2RSpn"
      }
    },
    {
      "cell_type": "markdown",
      "source": [
        "Just to make sure we haven’t done any mistakes in our code, we can use *Scikit-Learn’s Linear Regression* to fit the model and compare the coefficients."
      ],
      "metadata": {
        "id": "mPSt146LRTeX"
      }
    },
    {
      "cell_type": "code",
      "source": [
        "# Sanity Check: do we get the same results as our gradient descent?\n",
        "from sklearn.linear_model import LinearRegression\n",
        "linr = LinearRegression()\n",
        "linr.fit(X_train, y_train)\n",
        "print(linr.intercept_, linr.coef_[0])"
      ],
      "metadata": {
        "colab": {
          "base_uri": "https://localhost:8080/"
        },
        "id": "CaXNYAztRPa1",
        "outputId": "77a328db-e732-4d68-8f73-c5921b307bb2"
      },
      "execution_count": 49,
      "outputs": [
        {
          "output_type": "stream",
          "name": "stdout",
          "text": [
            "[1.02354075] [1.96896447]\n"
          ]
        }
      ]
    },
    {
      "cell_type": "markdown",
      "source": [
        "They **match** — we have a *fully working implementation of linear regression* using PyTorch!"
      ],
      "metadata": {
        "id": "b-EJp8T4Raoe"
      }
    },
    {
      "cell_type": "markdown",
      "source": [
        "Finally, we managed to successfully run our model and get the **resulting parameters**. Surely enough, they **match** the ones we got in our *Numpy*-only implementation.\n",
        "\n",
        "Let's take a look at the **loss** at the end of the training..."
      ],
      "metadata": {
        "id": "kAZOekDERcjp"
      }
    },
    {
      "cell_type": "code",
      "source": [
        "loss"
      ],
      "metadata": {
        "colab": {
          "base_uri": "https://localhost:8080/"
        },
        "id": "ZPeJdgM4RWBl",
        "outputId": "36107add-29cd-44d9-8636-766073e356c6"
      },
      "execution_count": 50,
      "outputs": [
        {
          "output_type": "execute_result",
          "data": {
            "text/plain": [
              "tensor(0.0094, device='cuda:0', grad_fn=<MseLossBackward0>)"
            ]
          },
          "metadata": {},
          "execution_count": 50
        }
      ]
    },
    {
      "cell_type": "markdown",
      "source": [
        "What if we wanted to have it as a *Numpy* array? I guess we could just use **numpy()** again, right? (and **cpu()** as well, since our *loss* is in the `cuda` device..."
      ],
      "metadata": {
        "id": "_vfC5Pf9Rhp5"
      }
    },
    {
      "cell_type": "code",
      "source": [
        "loss.cpu().numpy()"
      ],
      "metadata": {
        "colab": {
          "base_uri": "https://localhost:8080/",
          "height": 165
        },
        "id": "qMs9dq-ARfql",
        "outputId": "609b9d97-69e4-4602-efc4-71f096a78fb3"
      },
      "execution_count": 51,
      "outputs": [
        {
          "output_type": "error",
          "ename": "RuntimeError",
          "evalue": "ignored",
          "traceback": [
            "\u001b[0;31m---------------------------------------------------------------------------\u001b[0m",
            "\u001b[0;31mRuntimeError\u001b[0m                              Traceback (most recent call last)",
            "\u001b[0;32m<ipython-input-51-58c76a7bac74>\u001b[0m in \u001b[0;36m<module>\u001b[0;34m\u001b[0m\n\u001b[0;32m----> 1\u001b[0;31m \u001b[0mloss\u001b[0m\u001b[0;34m.\u001b[0m\u001b[0mcpu\u001b[0m\u001b[0;34m(\u001b[0m\u001b[0;34m)\u001b[0m\u001b[0;34m.\u001b[0m\u001b[0mnumpy\u001b[0m\u001b[0;34m(\u001b[0m\u001b[0;34m)\u001b[0m\u001b[0;34m\u001b[0m\u001b[0;34m\u001b[0m\u001b[0m\n\u001b[0m",
            "\u001b[0;31mRuntimeError\u001b[0m: Can't call numpy() on Tensor that requires grad. Use tensor.detach().numpy() instead."
          ]
        }
      ]
    },
    {
      "cell_type": "markdown",
      "source": [
        "What happened here? Unlike our *data tensors*, the **loss tensor** is actually computing gradients - and in order to use **numpy**, we need to [**detach()**](https://pytorch.org/docs/stable/generated/torch.Tensor.detach.html#torch.Tensor.detach) that tensor from the computation graph first:"
      ],
      "metadata": {
        "id": "tStq_9bYRlDx"
      }
    },
    {
      "cell_type": "code",
      "source": [
        "loss.detach().cpu().numpy()"
      ],
      "metadata": {
        "colab": {
          "base_uri": "https://localhost:8080/"
        },
        "id": "1LLQ4HhQRjT1",
        "outputId": "622015b0-133b-4064-8305-c5080e5021d2"
      },
      "execution_count": 52,
      "outputs": [
        {
          "output_type": "execute_result",
          "data": {
            "text/plain": [
              "array(0.00944467, dtype=float32)"
            ]
          },
          "metadata": {},
          "execution_count": 52
        }
      ]
    },
    {
      "cell_type": "markdown",
      "source": [
        "This seems like **a lot of work**, there must be an easier way! And there is one indeed: we can use [**item()**](https://pytorch.org/docs/stable/generated/torch.Tensor.item.html#torch.Tensor.item), for **tensors with a single element** or [**tolist()**](https://pytorch.org/docs/stable/generated/torch.Tensor.tolist.html#torch.Tensor.tolist) otherwise."
      ],
      "metadata": {
        "id": "NMYkkQ2oRnlj"
      }
    },
    {
      "cell_type": "code",
      "source": [
        "print(loss.item(), loss.tolist())"
      ],
      "metadata": {
        "colab": {
          "base_uri": "https://localhost:8080/"
        },
        "id": "1yfxmlaIRm3F",
        "outputId": "eecab56f-72b3-4aab-ec2b-92cef012bdba"
      },
      "execution_count": 53,
      "outputs": [
        {
          "output_type": "stream",
          "name": "stdout",
          "text": [
            "0.009444665163755417 0.009444665163755417\n"
          ]
        }
      ]
    },
    {
      "cell_type": "code",
      "source": [],
      "metadata": {
        "id": "drUCGSXmRqVl"
      },
      "execution_count": null,
      "outputs": []
    }
  ]
}